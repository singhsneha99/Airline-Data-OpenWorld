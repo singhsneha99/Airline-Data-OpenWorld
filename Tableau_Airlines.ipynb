{
  "nbformat": 4,
  "nbformat_minor": 0,
  "metadata": {
    "colab": {
      "provenance": [],
      "authorship_tag": "ABX9TyO9luM6dGzSkraa1R56S2GX"
    },
    "kernelspec": {
      "name": "python3",
      "display_name": "Python 3"
    },
    "language_info": {
      "name": "python"
    }
  },
  "cells": [
    {
      "cell_type": "code",
      "execution_count": null,
      "metadata": {
        "id": "EJAvMkhwY-S3"
      },
      "outputs": [],
      "source": [
        "import pandas as pd\n",
        "\n",
        "# Read your source data file\n",
        "file_path = 'routes.csv'  # Update with the actual file path\n",
        "routes_df = pd.read_csv(file_path)"
      ]
    },
    {
      "cell_type": "code",
      "source": [
        "from io import StringIO\n",
        "\n",
        "# Read the 'airports.dat' file from the provided URL as text\n",
        "airports_url = 'https://raw.githubusercontent.com/jpatokal/openflights/master/data/airports.dat'\n",
        "airports_data = pd.read_csv(airports_url, header=None, quotechar='\"', delimiter=',', names=['Airport ID', 'Name', 'City', 'Country', 'IATA', 'ICAO', 'Latitude', 'Longitude', 'Altitude', 'Timezone', 'DST', 'Tz database timezone', 'Type', 'Source'])\n",
        "\n",
        "# Display the DataFrame\n",
        "print(airports_data)\n"
      ],
      "metadata": {
        "colab": {
          "base_uri": "https://localhost:8080/"
        },
        "id": "aT0jLGJ9w4Me",
        "outputId": "19007e31-c2cf-43cf-bb9e-9bc19c770df3"
      },
      "execution_count": null,
      "outputs": [
        {
          "output_type": "stream",
          "name": "stdout",
          "text": [
            "      Airport ID                                         Name          City  \\\n",
            "0              1                               Goroka Airport        Goroka   \n",
            "1              2                               Madang Airport        Madang   \n",
            "2              3                 Mount Hagen Kagamuga Airport   Mount Hagen   \n",
            "3              4                               Nadzab Airport        Nadzab   \n",
            "4              5  Port Moresby Jacksons International Airport  Port Moresby   \n",
            "...          ...                                          ...           ...   \n",
            "7693       14106                          Rogachyovo Air Base        Belaya   \n",
            "7694       14107                        Ulan-Ude East Airport      Ulan Ude   \n",
            "7695       14108                         Krechevitsy Air Base      Novgorod   \n",
            "7696       14109                  Desierto de Atacama Airport       Copiapo   \n",
            "7697       14110                           Melitopol Air Base     Melitopol   \n",
            "\n",
            "               Country IATA  ICAO   Latitude   Longitude  Altitude Timezone  \\\n",
            "0     Papua New Guinea  GKA  AYGA  -6.081690  145.391998      5282       10   \n",
            "1     Papua New Guinea  MAG  AYMD  -5.207080  145.789001        20       10   \n",
            "2     Papua New Guinea  HGU  AYMH  -5.826790  144.296005      5388       10   \n",
            "3     Papua New Guinea  LAE  AYNZ  -6.569803  146.725977       239       10   \n",
            "4     Papua New Guinea  POM  AYPY  -9.443380  147.220001       146       10   \n",
            "...                ...  ...   ...        ...         ...       ...      ...   \n",
            "7693            Russia   \\N  ULDA  71.616699   52.478298       272       \\N   \n",
            "7694            Russia   \\N  XIUW  51.849998  107.737999      1670       \\N   \n",
            "7695            Russia   \\N  ULLK  58.625000   31.385000        85       \\N   \n",
            "7696             Chile  CPO  SCAT -27.261200  -70.779198       670       \\N   \n",
            "7697           Ukraine   \\N  UKDM  46.880001   35.305000         0       \\N   \n",
            "\n",
            "     DST  Tz database timezone     Type       Source  \n",
            "0      U  Pacific/Port_Moresby  airport  OurAirports  \n",
            "1      U  Pacific/Port_Moresby  airport  OurAirports  \n",
            "2      U  Pacific/Port_Moresby  airport  OurAirports  \n",
            "3      U  Pacific/Port_Moresby  airport  OurAirports  \n",
            "4      U  Pacific/Port_Moresby  airport  OurAirports  \n",
            "...   ..                   ...      ...          ...  \n",
            "7693  \\N                    \\N  airport  OurAirports  \n",
            "7694  \\N                    \\N  airport  OurAirports  \n",
            "7695  \\N                    \\N  airport  OurAirports  \n",
            "7696  \\N                    \\N  airport  OurAirports  \n",
            "7697  \\N                    \\N  airport  OurAirports  \n",
            "\n",
            "[7698 rows x 14 columns]\n"
          ]
        }
      ]
    },
    {
      "cell_type": "code",
      "source": [
        "# Read the 'airlines.csv' file from OpenFlights\n",
        "airlines_path = 'https://raw.githubusercontent.com/jpatokal/openflights/master/data/airlines.dat'\n",
        "airlines_columns = ['Airline ID', 'Name', 'Alias', 'IATA', 'ICAO', 'Callsign', 'Country', 'Active']\n",
        "airlines_df = pd.read_csv(airlines_path, names=airlines_columns, header=None)\n",
        "print(airlines_df)"
      ],
      "metadata": {
        "colab": {
          "base_uri": "https://localhost:8080/"
        },
        "id": "NPcpCGPLboGK",
        "outputId": "fe5ac302-8e97-4390-ada5-eb7490ab60fe"
      },
      "execution_count": null,
      "outputs": [
        {
          "output_type": "stream",
          "name": "stdout",
          "text": [
            "      Airline ID                                          Name  \\\n",
            "0             -1                                       Unknown   \n",
            "1              1                                Private flight   \n",
            "2              2                                   135 Airways   \n",
            "3              3                                 1Time Airline   \n",
            "4              4  2 Sqn No 1 Elementary Flying Training School   \n",
            "...          ...                                           ...   \n",
            "6157       21248                                   GX Airlines   \n",
            "6158       21251                        Lynx Aviation (L3/SSX)   \n",
            "6159       21268                               Jetgo Australia   \n",
            "6160       21270                                  Air Carnival   \n",
            "6161       21317                                 Svyaz Rossiya   \n",
            "\n",
            "                  Alias IATA ICAO         Callsign         Country Active  \n",
            "0                    \\N    -  NaN               \\N              \\N      Y  \n",
            "1                    \\N    -  NaN              NaN             NaN      Y  \n",
            "2                    \\N  NaN  GNL          GENERAL   United States      N  \n",
            "3                    \\N   1T  RNX          NEXTIME    South Africa      Y  \n",
            "4                    \\N  NaN  WYT              NaN  United Kingdom      N  \n",
            "...                 ...  ...  ...              ...             ...    ...  \n",
            "6157                NaN  NaN  CBG            SPRAY           China      Y  \n",
            "6158                NaN  NaN  SSX           Shasta   United States      N  \n",
            "6159                NaN   JG   \\N              NaN       Australia      Y  \n",
            "6160                NaN   2S   \\N              NaN           India      Y  \n",
            "6161  Russian Commuter    7R  SJM  RussianConnecty          Russia      Y  \n",
            "\n",
            "[6162 rows x 8 columns]\n"
          ]
        }
      ]
    },
    {
      "cell_type": "code",
      "source": [
        "# Merge routes_df with airlines_df for airline names\n",
        "routes_df = pd.merge(routes_df, airlines_df[['IATA', 'Name']], left_on='Airline', right_on='IATA', how='left')\n",
        "routes_df = routes_df.rename(columns={'Name': 'Airline Name'})\n",
        "routes_df.drop(columns=['IATA'], inplace=True)"
      ],
      "metadata": {
        "id": "S6oUuv-zbvjP"
      },
      "execution_count": null,
      "outputs": []
    },
    {
      "cell_type": "code",
      "source": [
        "# Merge routes_df with airports_df for source airports\n",
        "routes_df = pd.merge(routes_df, airports_data[['IATA', 'Name', 'Latitude', 'Longitude']], left_on='Source airport', right_on='IATA', how='left')\n",
        "routes_df = routes_df.rename(columns={'Name': 'Source Airport Name', 'Latitude': 'Source Latitude', 'Longitude': 'Source Longitude'})\n",
        "routes_df.drop(columns=['IATA'], inplace=True)\n"
      ],
      "metadata": {
        "id": "p3EPM9ZIbqVX"
      },
      "execution_count": null,
      "outputs": []
    },
    {
      "cell_type": "code",
      "source": [
        "# Merge routes_df with airports_df for destination airports\n",
        "routes_df = pd.merge(routes_df, airports_data[['IATA', 'Name', 'Latitude', 'Longitude']], left_on='Destination airport', right_on='IATA', how='left')\n",
        "routes_df = routes_df.rename(columns={'Name': 'Destination Airport Name', 'Latitude': 'Destination Latitude', 'Longitude': 'Destination Longitude'})\n",
        "routes_df.drop(columns=['IATA'], inplace=True)\n"
      ],
      "metadata": {
        "id": "55_HXRfybrsn"
      },
      "execution_count": null,
      "outputs": []
    },
    {
      "cell_type": "code",
      "source": [
        "# Display the updated DataFrame\n",
        "print(routes_df)"
      ],
      "metadata": {
        "colab": {
          "base_uri": "https://localhost:8080/"
        },
        "id": "5zk-8CVfbzfU",
        "outputId": "10876ae1-6a3f-4753-a825-88a200a56bc2"
      },
      "execution_count": null,
      "outputs": [
        {
          "output_type": "stream",
          "name": "stdout",
          "text": [
            "      Airline Airline ID Source airport Source airport ID Destination airport  \\\n",
            "0          2B        410            AER              2965                 KZN   \n",
            "1          2B        410            ASF              2966                 KZN   \n",
            "2          2B        410            ASF              2966                 MRV   \n",
            "3          2B        410            CEK              2968                 KZN   \n",
            "4          2B        410            CEK              2968                 OVB   \n",
            "...       ...        ...            ...               ...                 ...   \n",
            "78216      ZL       4178            WYA              6334                 ADL   \n",
            "78217      ZM      19016            DME              4029                 FRU   \n",
            "78218      ZM      19016            FRU              2912                 DME   \n",
            "78219      ZM      19016            FRU              2912                 OSS   \n",
            "78220      ZM      19016            OSS              2913                 FRU   \n",
            "\n",
            "      Destination airport ID Codeshare  Stops Equipment      Airline Name  \\\n",
            "0                       2990       NaN      0       CR2        Aerocondor   \n",
            "1                       2990       NaN      0       CR2        Aerocondor   \n",
            "2                       2962       NaN      0       CR2        Aerocondor   \n",
            "3                       2990       NaN      0       CR2        Aerocondor   \n",
            "4                       4078       NaN      0       CR2        Aerocondor   \n",
            "...                      ...       ...    ...       ...               ...   \n",
            "78216                   3341       NaN      0       SF3  Regional Express   \n",
            "78217                   2912       NaN      0       734        Apache Air   \n",
            "78218                   4029       NaN      0       734        Apache Air   \n",
            "78219                   2913       NaN      0       734        Apache Air   \n",
            "78220                   2912       NaN      0       734        Apache Air   \n",
            "\n",
            "                    Source Airport Name  Source Latitude  Source Longitude  \\\n",
            "0           Sochi International Airport        43.449902         39.956600   \n",
            "1                     Astrakhan Airport        46.283298         48.006302   \n",
            "2                     Astrakhan Airport        46.283298         48.006302   \n",
            "3         Chelyabinsk Balandino Airport        55.305801         61.503300   \n",
            "4         Chelyabinsk Balandino Airport        55.305801         61.503300   \n",
            "...                                 ...              ...               ...   \n",
            "78216                   Whyalla Airport       -33.058899        137.514008   \n",
            "78217  Domodedovo International Airport        55.408798         37.906300   \n",
            "78218       Manas International Airport        43.061298         74.477600   \n",
            "78219       Manas International Airport        43.061298         74.477600   \n",
            "78220                       Osh Airport        40.609001         72.793297   \n",
            "\n",
            "               Destination Airport Name  Destination Latitude  \\\n",
            "0           Kazan International Airport             55.606201   \n",
            "1           Kazan International Airport             55.606201   \n",
            "2              Mineralnyye Vody Airport             44.225101   \n",
            "3           Kazan International Airport             55.606201   \n",
            "4                    Tolmachevo Airport             55.012600   \n",
            "...                                 ...                   ...   \n",
            "78216    Adelaide International Airport            -34.945000   \n",
            "78217       Manas International Airport             43.061298   \n",
            "78218  Domodedovo International Airport             55.408798   \n",
            "78219                       Osh Airport             40.609001   \n",
            "78220       Manas International Airport             43.061298   \n",
            "\n",
            "       Destination Longitude  \n",
            "0                  49.278702  \n",
            "1                  49.278702  \n",
            "2                  43.081902  \n",
            "3                  49.278702  \n",
            "4                  82.650703  \n",
            "...                      ...  \n",
            "78216             138.531006  \n",
            "78217              74.477600  \n",
            "78218              37.906300  \n",
            "78219              72.793297  \n",
            "78220              74.477600  \n",
            "\n",
            "[78221 rows x 16 columns]\n"
          ]
        }
      ]
    },
    {
      "cell_type": "code",
      "source": [
        "import pandas as pd\n",
        "\n",
        "# Assuming you already have the routes_df DataFrame\n",
        "\n",
        "# Specify the file path and name for the CSV file\n",
        "csv_file_path = 'flights.csv'\n",
        "\n",
        "# Save the DataFrame to a CSV file\n",
        "routes_df.to_csv(csv_file_path, index=False)\n",
        "\n",
        "print(f'The DataFrame has been successfully saved to {csv_file_path}')\n"
      ],
      "metadata": {
        "colab": {
          "base_uri": "https://localhost:8080/"
        },
        "id": "EGVHqGrZc7cB",
        "outputId": "19f6906e-2269-494d-f34f-b9bd9d69e24d"
      },
      "execution_count": null,
      "outputs": [
        {
          "output_type": "stream",
          "name": "stdout",
          "text": [
            "The DataFrame has been successfully saved to flights.csv\n"
          ]
        }
      ]
    }
  ]
}